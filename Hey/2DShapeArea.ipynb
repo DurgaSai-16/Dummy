{
 "cells": [
  {
   "cell_type": "code",
   "execution_count": null,
   "id": "63bff27b",
   "metadata": {},
   "outputs": [],
   "source": [
    "from math import pi #Pi is imported from Math Library imported\n",
    "print(\"Please choose one of the following option to find Areas of 2D shape: \\n1.Circle \\n2.Triangle \\n3.Square \\n4.Rectangle \\n5.Parallelogram \\n6.Trapezium \\n7.Ellipse\")\n",
    "i = int(input(\"Option:\")) #Choose any one option\n",
    "if i == 1: #Circle\n",
    "    r = float(input(\"radius: \"))\n",
    "    print(\"Area of the circle:\",pi*r*r) #Formula to find area of circle\n",
    "elif i== 2: #Triangle\n",
    "    print(\"Choose a method: \\n1.Using Herons Formula \\n2.Base and Height\")\n",
    "    j = int(input(\"Method:\"))\n",
    "    if j ==1: #Method 1\n",
    "        a = float(input('a: '))\n",
    "        b = float(input('b: '))\n",
    "        c = float(input('c: '))\n",
    "        s = (a + b + c) / 2 #Heron's Formula\n",
    "        print('Area of the triangle:',(s * (s - a) * (s - b) * (s - c)) ** 0.5)  #Formula to find area of Triangle\n",
    "\n",
    "    elif j == 2: #Method 2\n",
    "        b = float(input('b: '))\n",
    "        h = float(input('h: '))\n",
    "        print(\"Area of the triangle:\",0.5*b*h)  #Formula to find area of Triangle\n",
    "\n",
    "elif i == 3: #Square\n",
    "    a = float(input('a:'))\n",
    "    print(\"Area of the Square:\",a*a)  #Formula to find area of Square\n",
    "\n",
    "elif i == 4: #Rectangle\n",
    "    l = float(input(\"l: \"))\n",
    "    b = float(input(\"b:\"))\n",
    "    print(\"Area of Rectangle:\",l*b)  #Formula to find area of Rectangle\n",
    "\n",
    "elif i == 5: #Parallelogram\n",
    "    b = float(input('b: '))\n",
    "    h = float(input('h: '))\n",
    "    print(\"Area of the Parallelogram:\",b*h)  #Formula to find area of Parallelogram\n",
    "\n",
    "elif i == 6: #Trapezium\n",
    "    a = float(input('a: '))\n",
    "    b = float(input('b: '))\n",
    "    h = float(input('h: '))\n",
    "    print(\"Area of the Trapezium:\",(0.5*(a+b))*h)  #Formula to find area of Trapezium\n",
    "\n",
    "elif i == 7: #Ellipse\n",
    "    a = float(input('a: '))\n",
    "    b = float(input('b: '))\n",
    "    print(\"Area of Ellipse:\",pi*a*b) #Formula to find area of Ellipse\n",
    "\n",
    "else:\n",
    "    print(\"Invalid Option\")"
   ]
  }
 ],
 "metadata": {
  "kernelspec": {
   "display_name": "Python 3",
   "language": "python",
   "name": "python3"
  },
  "language_info": {
   "codemirror_mode": {
    "name": "ipython",
    "version": 3
   },
   "file_extension": ".py",
   "mimetype": "text/x-python",
   "name": "python",
   "nbconvert_exporter": "python",
   "pygments_lexer": "ipython3",
   "version": "3.8.8"
  }
 },
 "nbformat": 4,
 "nbformat_minor": 5
}
